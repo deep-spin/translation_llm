{
 "cells": [
  {
   "cell_type": "code",
   "execution_count": null,
   "metadata": {},
   "outputs": [],
   "source": [
    "import os\n",
    "import pandas as pd\n",
    "import numpy as np\n",
    "\n",
    "from pathlib import Path\n",
    "from tqdm import tqdm, trange\n",
    "\n",
    "from templates import *\n",
    "\n",
    "from typing import List"
   ]
  },
  {
   "attachments": {},
   "cell_type": "markdown",
   "metadata": {},
   "source": [
    "## Load all the data"
   ]
  },
  {
   "cell_type": "code",
   "execution_count": null,
   "metadata": {},
   "outputs": [],
   "source": [
    "df_all_w_instruction = pd.read_pickle(\"<path to processed train data>\")"
   ]
  },
  {
   "cell_type": "code",
   "execution_count": null,
   "metadata": {},
   "outputs": [],
   "source": [
    "# create a lang map that maps the lang codes \"en\" \"fr\" \"de\" \"pt\" \"nl\" \"ru\" \"zh\" to the full language name\n",
    "lang_map = {\"en\": \"English\", \"fr\": \"French\", \"de\": \"German\", \"pt\": \"Portuguese\", \"nl\": \"Dutch\", \"ru\": \"Russian\", \"zh\": \"Chinese\"}\n",
    "# create a list of possible languages by pairing the languages in the lang_map with English\n",
    "lang_pairs = [f\"{lang}-en\" for lang in lang_map.keys() if lang != \"en\"] + [f\"en-{lang}\" for lang in lang_map.keys() if lang != \"en\"]"
   ]
  },
  {
   "attachments": {},
   "cell_type": "markdown",
   "metadata": {},
   "source": [
    "Filter according to \"filtering\" score -- 0.8 is the default value"
   ]
  },
  {
   "cell_type": "code",
   "execution_count": null,
   "metadata": {},
   "outputs": [],
   "source": [
    "df_filtered = df_all_w_instruction.loc[df_all_w_instruction.score >= 0.8]\n",
    "df_filtered.head()"
   ]
  },
  {
   "cell_type": "code",
   "execution_count": null,
   "metadata": {},
   "outputs": [],
   "source": [
    "val_data_root = Path(\"<path to processed val data>\")\n",
    "\n",
    "def load_data():\n",
    "    lps = [\"fr-en\", \"de-en\", \"pt-en\", \"nl-en\", \"ru-en\", \"zh-en\", \"en-fr\", \"en-de\", \"en-pt\", \"en-nl\", \"en-ru\", \"en-zh\"]\n",
    "    dfs = []\n",
    "    for lp in lps:\n",
    "        tsv_path = val_data_root / lp / \"dev.tsv\"\n",
    "        df = pd.read_csv(tsv_path, sep=\"\\t\")\n",
    "        dfs.append(df)\n",
    "\n",
    "    return pd.concat(dfs)\n",
    "\n",
    "df_val = load_data()\n",
    "df_val"
   ]
  },
  {
   "cell_type": "code",
   "execution_count": null,
   "metadata": {},
   "outputs": [],
   "source": [
    "root_dir = Path(\"<path to root dir>\")"
   ]
  },
  {
   "attachments": {},
   "cell_type": "markdown",
   "metadata": {},
   "source": [
    "### Create data by sampling N examples for each language pair"
   ]
  },
  {
   "cell_type": "code",
   "execution_count": null,
   "metadata": {},
   "outputs": [],
   "source": [
    "N_per_LP = 250000\n",
    "\n",
    "train_records = {}\n",
    "few_shot_records = {}\n",
    "for lang_pair in df_filtered[\"lp\"].unique():\n",
    "    df_lang_pair = df_filtered.loc[df_filtered.lp == lang_pair]\n",
    "    lp_train_df = df_lang_pair.sample(N_per_LP, random_state=42)\n",
    "    # Few shot records are the ones not in the train set\n",
    "    lp_few_shot_df = df_lang_pair.loc[~df_lang_pair.index.isin(lp_train_df.index)]\n",
    "\n",
    "    train_records[lang_pair] = lp_train_df\n",
    "    few_shot_records[lang_pair] = lp_few_shot_df"
   ]
  },
  {
   "cell_type": "code",
   "execution_count": null,
   "metadata": {},
   "outputs": [],
   "source": [
    "def choose_k(n: int, strategy: str, seed: int = 42) -> List[int]:\n",
    "    \"\"\"Choose the number of examples according to two strategies:\n",
    "    \n",
    "    * balanced: uniform sampling between 0 and 5\n",
    "    * unbalanced: 50% of the examples have 0 and the rest are uniformly sampled between 1 and 5\n",
    "    \"\"\"\n",
    "    rng = np.random.default_rng(seed)\n",
    "    if strategy == \"balanced\":\n",
    "        return list(rng.integers(low=0, high=6, size=n))\n",
    "    elif strategy == \"unbalanced\":\n",
    "        return list(rng.choice([0, 1, 2, 3, 4, 5], size=n, p=[0.5, 0.1, 0.1, 0.1, 0.1, 0.1]))\n",
    "    else:\n",
    "        raise ValueError(f\"Unknown strategy {strategy}\")\n",
    "\n",
    "def uniform_sample_examples(\n",
    "    few_shot_df: pd.DataFrame, lp: str, ks: List[int], remove_self_idx: bool = False, seed: int = 42,\n",
    ") -> List[List[Tuple[str, str]]]:\n",
    "    rng = np.random.default_rng(seed)\n",
    "    few_shot_df = few_shot_df[few_shot_df[\"lp\"] == lp]\n",
    "\n",
    "    if not remove_self_idx:\n",
    "        idxs = [rng.choice(few_shot_df.index, size=k, replace=False) for k in ks]\n",
    "    else:\n",
    "        idxs = [rng.choice(few_shot_df.index[few_shot_df.index != i], size=k, replace=False) for i, k in enumerate(ks)]\n",
    "    rows = [few_shot_df.loc[idx] for idx in idxs]\n",
    "    examples = [\n",
    "        [(row[\"src\"], row[\"ref\"]) for _, row in r.iterrows()]\n",
    "        for r in rows\n",
    "    ]\n",
    "    return examples\n",
    "\n",
    "def write_escaped_lines(lines, path):\n",
    "    lines = [line.replace(\"\\n\", \"\\\\n\") for line in lines]\n",
    "    with open(path, \"w\") as f:\n",
    "        f.write(\"\\n\".join(lines))"
   ]
  },
  {
   "attachments": {},
   "cell_type": "markdown",
   "metadata": {},
   "source": [
    "### Zero shot Train Data"
   ]
  },
  {
   "cell_type": "code",
   "execution_count": null,
   "metadata": {},
   "outputs": [],
   "source": [
    "def make_zero_shot_train_data():\n",
    "    data_dir = root_dir / \"zero_shot_train_data\"\n",
    "    data_dir.mkdir(exist_ok=True)\n",
    "\n",
    "    for lang_pair in tqdm(df_filtered[\"lp\"].unique()):\n",
    "        lp_train_df = train_records[lang_pair]\n",
    "\n",
    "        lp_train_df[\"zero_shot_instruction\"] = lp_train_df.apply(\n",
    "            lambda x: instruction_template(lang_pair, x[\"src\"]), axis=1,\n",
    "        )\n",
    "\n",
    "    lp_train_df = pd.concat(train_records.values())\n",
    "\n",
    "    write_escaped_lines(\n",
    "        lp_train_df[\"zero_shot_instruction\"].tolist(),\n",
    "        data_dir / \"zero_shot_instructions.txt\",\n",
    "    )\n",
    "\n",
    "    write_escaped_lines(\n",
    "        lp_train_df[\"src\"].tolist(),\n",
    "        data_dir / \"sources.txt\",\n",
    "    )\n",
    "\n",
    "    write_escaped_lines(\n",
    "        lp_train_df[\"ref\"].tolist(),\n",
    "        data_dir / \"references.txt\",\n",
    "    )\n",
    "\n",
    "make_zero_shot_train_data()"
   ]
  },
  {
   "attachments": {},
   "cell_type": "markdown",
   "metadata": {},
   "source": [
    "### Zero Shot Validation Data"
   ]
  },
  {
   "cell_type": "code",
   "execution_count": null,
   "metadata": {},
   "outputs": [],
   "source": [
    "def make_zero_shot_val_data():\n",
    "    data_dir = root_dir / \"zero_shot_val_data\"\n",
    "    data_dir.mkdir(exist_ok=True)\n",
    "\n",
    "    lp_val_dfs = []\n",
    "    for lang_pair in tqdm(df_val[\"lp\"].unique()):\n",
    "        lp_val_df = df_val.loc[df_val.lp == lang_pair].copy()\n",
    "\n",
    "        lp_val_df[\"zero_shot_instruction\"] = lp_val_df.apply(\n",
    "            lambda x: instruction_template(lang_pair, x[\"src\"]), axis=1,\n",
    "        )\n",
    "        lp_val_dfs.append(lp_val_df)\n",
    "    \n",
    "    zero_shot_val_df = pd.concat(lp_val_dfs)\n",
    "\n",
    "    write_escaped_lines(\n",
    "        zero_shot_val_df[\"zero_shot_instruction\"].tolist(),\n",
    "        data_dir / \"zero_shot_instructions.txt\",\n",
    "    )\n",
    "\n",
    "    write_escaped_lines(\n",
    "        zero_shot_val_df[\"src\"].tolist(),\n",
    "        data_dir / \"sources.txt\",\n",
    "    )\n",
    "\n",
    "    write_escaped_lines(\n",
    "        zero_shot_val_df[\"ref\"].tolist(),\n",
    "        data_dir / \"references.txt\",\n",
    "    )\n",
    "\n",
    "make_zero_shot_val_data()"
   ]
  },
  {
   "attachments": {},
   "cell_type": "markdown",
   "metadata": {},
   "source": [
    "### Few-shot train data"
   ]
  },
  {
   "cell_type": "code",
   "execution_count": null,
   "metadata": {},
   "outputs": [],
   "source": [
    "def make_few_shot_train_data(data_dir: Path, k_strategy: str):\n",
    "    data_dir.mkdir(exist_ok=True)\n",
    "\n",
    "    for lang_pair in df_filtered[\"lp\"].unique():\n",
    "        lp_train_df = train_records[lang_pair]\n",
    "        lp_few_shot_df = few_shot_records[lang_pair]\n",
    "\n",
    "        ks = choose_k(len(lp_train_df), k_strategy)\n",
    "\n",
    "        few_shot_examples = uniform_sample_examples(lp_few_shot_df, lp=lang_pair, ks=ks)\n",
    "        \n",
    "        lp_train_df[\"few_shot_examples\"] = few_shot_examples\n",
    "\n",
    "        lp_train_df[\"few_shot_1\"] = lp_train_df.apply(\n",
    "            lambda x: format1_few_shot_instruction_template(lang_pair, x[\"src\"], x[\"few_shot_examples\"]), axis=1,\n",
    "        )\n",
    "        lp_train_df[\"few_shot_2\"] = lp_train_df.apply(\n",
    "            lambda x: format2_few_shot_instruction_template(lang_pair, x[\"src\"], x[\"few_shot_examples\"]), axis=1,\n",
    "        )\n",
    "        lp_train_df[\"few_shot_3\"] = lp_train_df.apply(\n",
    "            lambda x: format3_few_shot_instruction_template(lang_pair, x[\"src\"], x[\"few_shot_examples\"]), axis=1,\n",
    "        )\n",
    "\n",
    "    lp_train_df = pd.concat(train_records.values())\n",
    "\n",
    "    write_escaped_lines(\n",
    "        lp_train_df[\"few_shot_1\"].tolist(),\n",
    "        data_dir / \"few_shot_instructions_1.txt\",\n",
    "    )\n",
    "    write_escaped_lines(\n",
    "        lp_train_df[\"few_shot_2\"].tolist(),\n",
    "        data_dir / \"few_shot_instructions_2.txt\",\n",
    "    )\n",
    "    write_escaped_lines(\n",
    "        lp_train_df[\"few_shot_3\"].tolist(),\n",
    "        data_dir / \"few_shot_instructions_3.txt\",\n",
    "    )\n",
    "\n",
    "    write_escaped_lines(\n",
    "        lp_train_df[\"src\"].tolist(),\n",
    "        data_dir / \"sources.txt\",\n",
    "    )\n",
    "\n",
    "    write_escaped_lines(\n",
    "        lp_train_df[\"ref\"].tolist(),\n",
    "        data_dir / \"references.txt\",\n",
    "    )\n",
    "\n",
    "def make_few_shot_val_data(data_dir: Path, k_strategy: str):\n",
    "    data_dir.mkdir(exist_ok=True)\n",
    "\n",
    "    lp_val_dfs = []\n",
    "    for lang_pair in tqdm(df_val[\"lp\"].unique()):\n",
    "        lp_val_df = df_val.loc[df_val.lp == lang_pair].copy()\n",
    "\n",
    "        ks = choose_k(len(lp_val_df), k_strategy)\n",
    "\n",
    "        few_shot_examples = uniform_sample_examples(lp_val_df, lp=lang_pair, ks=ks, remove_self_idx=True)\n",
    "\n",
    "        lp_val_df[\"few_shot_examples\"] = few_shot_examples\n",
    "\n",
    "        lp_val_df[\"few_shot_1\"] = lp_val_df.apply(\n",
    "            lambda x: format1_few_shot_instruction_template(lang_pair, x[\"src\"], x[\"few_shot_examples\"]), axis=1,\n",
    "        )\n",
    "        lp_val_df[\"few_shot_2\"] = lp_val_df.apply(\n",
    "            lambda x: format2_few_shot_instruction_template(lang_pair, x[\"src\"], x[\"few_shot_examples\"]), axis=1,\n",
    "        )\n",
    "        lp_val_df[\"few_shot_3\"] = lp_val_df.apply(\n",
    "            lambda x: format3_few_shot_instruction_template(lang_pair, x[\"src\"], x[\"few_shot_examples\"]), axis=1,\n",
    "        )\n",
    "        lp_val_dfs.append(lp_val_df)\n",
    "    \n",
    "    few_shot_val_df = pd.concat(lp_val_dfs)\n",
    "\n",
    "    write_escaped_lines(\n",
    "        few_shot_val_df[\"few_shot_1\"].tolist(),\n",
    "        data_dir / \"few_shot_instructions_1.txt\",\n",
    "    )\n",
    "    write_escaped_lines(\n",
    "        few_shot_val_df[\"few_shot_2\"].tolist(),\n",
    "        data_dir / \"few_shot_instructions_2.txt\",\n",
    "    )\n",
    "    write_escaped_lines(\n",
    "        few_shot_val_df[\"few_shot_3\"].tolist(),\n",
    "        data_dir / \"few_shot_instructions_3.txt\",\n",
    "    )\n",
    "\n",
    "    write_escaped_lines(\n",
    "        few_shot_val_df[\"src\"].tolist(),\n",
    "        data_dir / \"sources.txt\",\n",
    "    )\n",
    "\n",
    "    write_escaped_lines(\n",
    "        few_shot_val_df[\"ref\"].tolist(),\n",
    "        data_dir / \"references.txt\",\n",
    "    )"
   ]
  },
  {
   "cell_type": "code",
   "execution_count": null,
   "metadata": {},
   "outputs": [],
   "source": [
    "make_few_shot_train_data(\n",
    "    data_dir=root_dir / \"few_shot_balanced_uniform_train_data\",\n",
    "    k_strategy=\"balanced\",\n",
    "    select_strategy=\"uniform\",\n",
    ")\n",
    "make_few_shot_val_data(\n",
    "    data_dir=root_dir / \"few_shot_balanced_uniform_val_data\",\n",
    "    k_strategy=\"balanced\",\n",
    "    select_strategy=\"uniform\",\n",
    ")"
   ]
  },
  {
   "cell_type": "code",
   "execution_count": null,
   "metadata": {},
   "outputs": [],
   "source": [
    "make_few_shot_train_data(\n",
    "    data_dir=root_dir / \"few_shot_unbalanced_uniform_train_data\",\n",
    "    k_strategy=\"unbalanced\",\n",
    "    select_strategy=\"uniform\",\n",
    ")\n",
    "make_few_shot_val_data(\n",
    "    data_dir=root_dir / \"few_shot_unbalanced_uniform_val_data\",\n",
    "    k_strategy=\"unbalanced\",\n",
    "    select_strategy=\"uniform\",\n",
    ")"
   ]
  },
  {
   "cell_type": "code",
   "execution_count": null,
   "metadata": {},
   "outputs": [],
   "source": []
  }
 ],
 "metadata": {
  "kernelspec": {
   "display_name": "mt_llm_env",
   "language": "python",
   "name": "python3"
  },
  "language_info": {
   "codemirror_mode": {
    "name": "ipython",
    "version": 3
   },
   "file_extension": ".py",
   "mimetype": "text/x-python",
   "name": "python",
   "nbconvert_exporter": "python",
   "pygments_lexer": "ipython3",
   "version": "3.10.6"
  },
  "orig_nbformat": 4
 },
 "nbformat": 4,
 "nbformat_minor": 2
}
