{
 "cells": [
  {
   "cell_type": "code",
   "execution_count": null,
   "metadata": {},
   "outputs": [],
   "source": [
    "import pandas as pd\n",
    "import seaborn as sns\n",
    "import matplotlib.pyplot as plt\n",
    "\n",
    "from pathlib import Path\n",
    "\n",
    "from typing import List\n",
    "\n",
    "params = {\n",
    "    'axes.grid' : True,\n",
    "    \"grid.linestyle\": '--',\n",
    "    \"font.family\": \"serif\",\n",
    "    \"font.serif\": \"Times New Roman\",\n",
    "}\n",
    "sns.set_style(\"ticks\", params)\n",
    "sns.set_context(\"paper\", font_scale=1.5)\n",
    "sns.set_palette(\"Set2\")"
   ]
  },
  {
   "cell_type": "code",
   "execution_count": null,
   "metadata": {},
   "outputs": [],
   "source": [
    "\"\"\"This file was copied from https://github.com/Lightning-AI/lit-llama/blob/main/lit_llama/tokenizer.py.\"\"\"\n",
    "import os\n",
    "from pathlib import Path\n",
    "from typing import Optional\n",
    "\n",
    "import torch\n",
    "from sentencepiece import SentencePieceProcessor, SentencePieceTrainer\n",
    "\n",
    "\n",
    "class Tokenizer:\n",
    "    \"\"\"Tokenizer for LLaMA.\"\"\"\n",
    "\n",
    "    def __init__(self, model_path: Path) -> None:\n",
    "        self.processor = SentencePieceProcessor(model_file=str(model_path))\n",
    "        self.bos_id = self.processor.bos_id()\n",
    "        self.eos_id = self.processor.eos_id()\n",
    "        self.pad_id = self.processor.pad_id()\n",
    "\n",
    "    @property\n",
    "    def vocab_size(self) -> int:\n",
    "        return self.processor.vocab_size()\n",
    "\n",
    "    def encode(\n",
    "        self,\n",
    "        string: str,\n",
    "        bos: bool = True,\n",
    "        eos: bool = False,\n",
    "        max_length: int = -1,\n",
    "        pad: bool = False,\n",
    "        device: Optional[torch.device] = None\n",
    "    ) -> torch.Tensor:\n",
    "        tokens = self.processor.encode(string)\n",
    "        if bos:\n",
    "            tokens = [self.bos_id] + tokens\n",
    "        if eos:\n",
    "            tokens = tokens + [self.eos_id]\n",
    "        if max_length > 0:\n",
    "            tokens = tokens[:max_length]\n",
    "        if pad and len(tokens) < max_length:\n",
    "            tokens += [self.pad_id] * (max_length - len(tokens))\n",
    "\n",
    "        return torch.tensor(tokens, dtype=torch.int, device=device)\n",
    "\n",
    "    def decode(self, tokens: torch.Tensor) -> str:\n",
    "        return self.processor.decode(tokens.tolist())\n",
    "\n",
    "    @staticmethod\n",
    "    def train(input: str, destination: str, vocab_size=32000) -> None:\n",
    "        model_prefix = os.path.join(destination, \"tokenizer\")\n",
    "        SentencePieceTrainer.Train(input=input, model_prefix=model_prefix, vocab_size=vocab_size)\n",
    "\n",
    "tokenizer = Tokenizer(Path(\"<path to sentence piece tokenizer>\"))\n",
    "def tokenize(text: str) -> List[str]:\n",
    "    return tokenizer.processor.encode_as_pieces(text)"
   ]
  },
  {
   "cell_type": "code",
   "execution_count": null,
   "metadata": {},
   "outputs": [],
   "source": [
    "data_root = Path(\"<path to data>\")\n",
    "pretrained_7B_path = Path(\"<path to pretrained 7B results>\")\n",
    "finetuned_lora_path = Path(\"<path to best adapters zero-shot model results>\")\n",
    "icl_finetuned_lora_path = Path(\"<path to best adapters few-shot model results>\")"
   ]
  },
  {
   "cell_type": "code",
   "execution_count": null,
   "metadata": {},
   "outputs": [],
   "source": [
    "def read_lines(path: Path, unescape_newline: bool = False) -> List[str]:\n",
    "    with open(path) as f:\n",
    "        lines = [l[:-1] for l in f.readlines()]\n",
    "    if unescape_newline:\n",
    "        lines = [l.replace(\"\\\\n\", \"\\n\") for l in lines]\n",
    "    return lines\n",
    "\n",
    "def load_scores(scores_file: Path):\n",
    "    lines = scores_file.read_text().splitlines()\n",
    "    scores = {}\n",
    "    for line in lines:\n",
    "        key, value = line.split(\": \")\n",
    "        scores[key] = float(value)\n",
    "    return scores\n",
    "\n",
    "def load_lp(dataset_root: Path, model_dataset_root: Path, lp: str, ckpt: str, instructions: str):\n",
    "    sources = read_lines(dataset_root / lp / \"train_eval.input.txt\", unescape_newline=True)\n",
    "    references = read_lines(dataset_root / lp / \"train_eval.output.txt\", unescape_newline=True)\n",
    "    instructions_lines = read_lines(dataset_root / lp / f\"{instructions}.txt\", unescape_newline=True)\n",
    "    \n",
    "    translations = read_lines(model_dataset_root / lp / ckpt / instructions / \"translations.txt\", unescape_newline=True)\n",
    "\n",
    "    records = [\n",
    "        {\n",
    "            \"lp\": lp,\n",
    "            \"source\": s,\n",
    "            \"reference\": r,\n",
    "            \"translation\": t,\n",
    "            \"instruction\": i,\n",
    "        }\n",
    "        for s, r, t, i in zip(sources, references, translations, instructions_lines)\n",
    "    ]\n",
    "\n",
    "    return records\n",
    "\n",
    "def longest_common_substring(s1, s2):\n",
    "    longest = \"\"\n",
    "    for i in range(len(s1)):\n",
    "        for j in range(len(s2)):\n",
    "            k = 0\n",
    "            while i + k < len(s1) and j + k < len(s2) and s1[i + k] == s2[j + k]:\n",
    "                k += 1\n",
    "            if k > len(longest):\n",
    "                longest = s1[i:i + k]\n",
    "    return longest\n",
    "\n",
    "def compute_features(df):\n",
    "    df[\"tok-translation\"] = df[\"translation\"].apply(tokenize)\n",
    "    df[\"tok-reference\"] = df[\"reference\"].apply(tokenize)\n",
    "    df[\"tok-instruction\"] = df[\"instruction\"].apply(tokenize)\n",
    "    #df[\"tok-lcs\"] = df.apply(lambda x: longest_common_substring(x[\"tok-translation\"], x[\"tok-instruction\"]), axis=1)\n",
    "    #df[\"len-lcs\"] = df[\"tok-lcs\"].apply(lambda x: len(x))\n",
    "    #df[\"lcs-instruction\"] = df.apply(lambda x: longest_common_substring(x[\"translation\"], x[\"instruction\"]), axis=1)\n",
    "    df[\"translation-len\"] = df[\"tok-translation\"].apply(lambda x: len(x))\n",
    "    df[\"newline-count\"] = df[\"translation\"].apply(lambda x: x.count(\"\\n\"))\n",
    "    return df\n",
    "\n",
    "def load_results(data_root: Path, model_root: Path, dataset: str, ckpt: str, instructions: str):\n",
    "    dataset_root = data_root / dataset\n",
    "    model_dataset_root = model_root / dataset\n",
    "\n",
    "    results = []\n",
    "    lps_dirs = [d for d in model_dataset_root.iterdir() if d.is_dir()]\n",
    "    for lp_dir in lps_dirs:\n",
    "        lp = lp_dir.name\n",
    "        results.extend(load_lp(dataset_root, model_dataset_root, lp, ckpt, instructions))\n",
    "    df = pd.DataFrame(results)\n",
    "    df = compute_features(df)\n",
    "    return df"
   ]
  },
  {
   "cell_type": "code",
   "execution_count": null,
   "metadata": {},
   "outputs": [],
   "source": [
    "pretrained_results = load_results(data_root, pretrained_7B_path, \"flores\", \"0\", \"zero_shot_instructions\")\n",
    "pretrained_results[\"Model\"] = \"Pretrained\"\n",
    "pretrained_results"
   ]
  },
  {
   "cell_type": "code",
   "execution_count": null,
   "metadata": {},
   "outputs": [],
   "source": [
    "finetuned_results = load_results(data_root, finetuned_lora_path, \"flores\", \"20000\", \"zero_shot_instructions\")\n",
    "finetuned_results[\"Model\"] = \"FT w/o\\nfew-shot\"\n",
    "finetuned_results"
   ]
  },
  {
   "cell_type": "code",
   "execution_count": null,
   "metadata": {},
   "outputs": [],
   "source": [
    "icl_results = load_results(data_root, icl_finetuned_lora_path, \"flores\", \"20000\", \"zero_shot_instructions\")\n",
    "icl_results[\"Model\"] = \"FT w\\nfew-shot\"\n",
    "icl_results"
   ]
  },
  {
   "cell_type": "code",
   "execution_count": null,
   "metadata": {},
   "outputs": [],
   "source": [
    "oracle = icl_results.copy()\n",
    "oracle[\"translation\"] = oracle[\"reference\"]\n",
    "oracle[\"tok-translation\"] = oracle[\"tok-reference\"]\n",
    "oracle[\"Model\"] = \"Reference\""
   ]
  },
  {
   "cell_type": "code",
   "execution_count": null,
   "metadata": {},
   "outputs": [],
   "source": [
    "results = pd.concat([pretrained_results, finetuned_results, icl_results, oracle])\n",
    "results.to_csv(\"translation_length.csv\", index=False)\n",
    "results = results[~results[\"lp\"].str.contains(\"zh\")]"
   ]
  },
  {
   "cell_type": "code",
   "execution_count": null,
   "metadata": {},
   "outputs": [],
   "source": [
    "_, ax = plt.subplots(figsize=(5, 3))\n",
    "ax = sns.boxenplot(data=results, y=\"translation-len\",x=\"Model\", ax=ax) #stat=\"probability\", multiple=\"dodge\", kde=True, bins=100)\n",
    "ax.set_xlabel(\"\")\n",
    "ax.set_ylim(0, 210)\n",
    "ax.set_ylabel(\"Translation Length\")\n",
    "#plt.savefig(\"figures/translation_length.pdf\", bbox_inches=\"tight\", dpi=200)"
   ]
  },
  {
   "cell_type": "code",
   "execution_count": null,
   "metadata": {},
   "outputs": [],
   "source": []
  }
 ],
 "metadata": {
  "kernelspec": {
   "display_name": "mt-eval",
   "language": "python",
   "name": "python3"
  },
  "language_info": {
   "codemirror_mode": {
    "name": "ipython",
    "version": 3
   },
   "file_extension": ".py",
   "mimetype": "text/x-python",
   "name": "python",
   "nbconvert_exporter": "python",
   "pygments_lexer": "ipython3",
   "version": "3.10.6"
  },
  "orig_nbformat": 4
 },
 "nbformat": 4,
 "nbformat_minor": 2
}
