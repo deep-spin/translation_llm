{
 "cells": [
  {
   "cell_type": "code",
   "execution_count": null,
   "metadata": {},
   "outputs": [],
   "source": [
    "import pandas as pd\n",
    "\n",
    "from pathlib import Path"
   ]
  },
  {
   "cell_type": "code",
   "execution_count": null,
   "metadata": {},
   "outputs": [],
   "source": [
    "data_root = Path(\"<path to all few-shot results>\")\n",
    "\n",
    "def load_scores(scores_file: Path):\n",
    "    lines = scores_file.read_text().splitlines()\n",
    "    scores = {}\n",
    "    for line in lines:\n",
    "        key, value = line.split(\": \")\n",
    "        scores[key] = float(value)\n",
    "    return scores\n",
    "\n",
    "def load_lp(data_root: Path, format: str, lp: str):\n",
    "    # ckpt at step 20000\n",
    "    sys_scores_path = data_root / format / \"flores\" / lp / \"20000\" / \"sys_scores.txt\"\n",
    "    scores = load_scores(sys_scores_path)\n",
    "    return {\"format\": format, \"lp\": lp, **scores}\n",
    "\n",
    "\n",
    "def load_results(data_root: Path):\n",
    "    results = []\n",
    "    format_dirs = [d for d in data_root.iterdir() if d.is_dir()]\n",
    "    for format_dir in format_dirs:\n",
    "        flores_dir = format_dir / \"flores\"\n",
    "        lps_dirs = [d for d in flores_dir.iterdir() if d.is_dir()]\n",
    "        for lp_dir in lps_dirs:\n",
    "            format = format_dir.name\n",
    "            lp = lp_dir.name\n",
    "            results.append(load_lp(data_root, format, lp))\n",
    "    return pd.DataFrame(results)\n",
    "\n",
    "results = load_results(data_root)\n",
    "results"
   ]
  },
  {
   "cell_type": "code",
   "execution_count": null,
   "metadata": {},
   "outputs": [],
   "source": [
    "pd.options.display.float_format = '{:,.2f}'.format\n",
    "results[\"COMET-22\"] *= 100\n",
    "results[\"COMETKiwi\"] *= 100\n",
    "results.groupby(\"format\").mean()"
   ]
  },
  {
   "cell_type": "code",
   "execution_count": null,
   "metadata": {},
   "outputs": [],
   "source": []
  }
 ],
 "metadata": {
  "kernelspec": {
   "display_name": "mt-eval",
   "language": "python",
   "name": "python3"
  },
  "language_info": {
   "codemirror_mode": {
    "name": "ipython",
    "version": 3
   },
   "file_extension": ".py",
   "mimetype": "text/x-python",
   "name": "python",
   "nbconvert_exporter": "python",
   "pygments_lexer": "ipython3",
   "version": "3.10.6"
  },
  "orig_nbformat": 4
 },
 "nbformat": 4,
 "nbformat_minor": 2
}
