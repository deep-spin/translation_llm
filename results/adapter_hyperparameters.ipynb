{
 "cells": [
  {
   "cell_type": "code",
   "execution_count": null,
   "metadata": {},
   "outputs": [],
   "source": [
    "import matplotlib.pyplot as plt\n",
    "import pandas as pd\n",
    "import seaborn as sns\n",
    "\n",
    "from pathlib import Path"
   ]
  },
  {
   "cell_type": "code",
   "execution_count": null,
   "metadata": {},
   "outputs": [],
   "source": [
    "data_root = Path(\"<path to results for adapter hyperparameters>\")\n",
    "\n",
    "def load_scores(scores_file: Path):\n",
    "    lines = scores_file.read_text().splitlines()\n",
    "    scores = {}\n",
    "    for line in lines:\n",
    "        key, value = line.split(\": \")\n",
    "        scores[key] = float(value)\n",
    "    return scores\n",
    "\n",
    "def load_lp(data_root: Path, model_id: str, lp: str):\n",
    "    sys_scores_path = data_root / model_id / lp / \"sys_scores.txt\"\n",
    "    scores = load_scores(sys_scores_path)\n",
    "    return {\"model_id\": model_id, \"lp\": lp, **scores}\n",
    "\n",
    "\n",
    "def load_results(data_root: Path):\n",
    "    results = []\n",
    "    model_ids_dirs = [d for d in data_root.iterdir() if d.is_dir()]\n",
    "    for model_id_dir in model_ids_dirs:\n",
    "        lps_dirs = [d for d in model_id_dir.iterdir() if d.is_dir()]\n",
    "        for lp_dir in lps_dirs:\n",
    "            model_id = model_id_dir.name\n",
    "            lp = lp_dir.name\n",
    "            results.append(load_lp(data_root, model_id, lp))\n",
    "    return pd.DataFrame(results)\n",
    "\n",
    "results = load_results(data_root)\n",
    "results"
   ]
  },
  {
   "cell_type": "code",
   "execution_count": null,
   "metadata": {},
   "outputs": [],
   "source": [
    "sns.barplot(data=results, x=\"model_id\", y=\"COMET-22\")\n",
    "plt.xticks(rotation=90)\n",
    "plt.ylim(0.8, 0.9)"
   ]
  },
  {
   "cell_type": "code",
   "execution_count": null,
   "metadata": {},
   "outputs": [],
   "source": [
    "mean_results = results.groupby(\"model_id\").mean()\n",
    "mean_results.sort_values(\"COMET-22\", ascending=False)\n",
    "mean_results[\"COMET-22\"] *= 100\n",
    "mean_results[\"COMETKiwi\"] *= 100\n",
    "pd.options.display.float_format = '{:,.2f}'.format\n",
    "mean_results"
   ]
  },
  {
   "cell_type": "code",
   "execution_count": null,
   "metadata": {},
   "outputs": [],
   "source": [
    "best_model = mean_results.sort_values(\"COMET-22\", ascending=False).index[0]\n",
    "best_model"
   ]
  },
  {
   "cell_type": "code",
   "execution_count": null,
   "metadata": {},
   "outputs": [],
   "source": [
    "best_model_results = results[results[\"model_id\"] == best_model].copy()\n",
    "sns.barplot(data=best_model_results, x=\"lp\", y=\"COMET-22\")\n",
    "plt.ylim(0.7, 0.9)"
   ]
  },
  {
   "cell_type": "code",
   "execution_count": null,
   "metadata": {},
   "outputs": [],
   "source": [
    "best_model_results.rename(columns={\"COMET-22\": \"comet22\", \"COMETKiwi\": \"cometkiwi\", \"model_id\": \"model\", \"BLEU\": \"bleu\", \"chrF\": \"chrf\", \"lp\": \"lang_pair\"}, inplace=True)\n",
    "best_model_id = best_model_results[\"model\"].iloc[0]\n",
    "best_model_results.replace(best_model_id, \"7B_adapters\", inplace=True)\n",
    "best_model_results[[\"comet22\", \"cometkiwi\"]] *= 100\n",
    "best_model_results"
   ]
  },
  {
   "cell_type": "code",
   "execution_count": null,
   "metadata": {},
   "outputs": [],
   "source": []
  }
 ],
 "metadata": {
  "kernelspec": {
   "display_name": "mt-eval",
   "language": "python",
   "name": "python3"
  },
  "language_info": {
   "codemirror_mode": {
    "name": "ipython",
    "version": 3
   },
   "file_extension": ".py",
   "mimetype": "text/x-python",
   "name": "python",
   "nbconvert_exporter": "python",
   "pygments_lexer": "ipython3",
   "version": "3.10.6"
  },
  "orig_nbformat": 4
 },
 "nbformat": 4,
 "nbformat_minor": 2
}
