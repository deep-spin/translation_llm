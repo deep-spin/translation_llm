{
 "cells": [
  {
   "cell_type": "code",
   "execution_count": null,
   "metadata": {},
   "outputs": [],
   "source": [
    "import pandas as pd\n",
    "import seaborn as sns\n",
    "import matplotlib.pyplot as plt\n",
    "\n",
    "from itertools import chain\n",
    "from pathlib import Path\n",
    "\n",
    "from typing import List, Optional\n",
    "\n",
    "params = {\n",
    "    'axes.grid' : True,\n",
    "    \"grid.linestyle\": '--',\n",
    "    \"font.family\": \"serif\",\n",
    "    \"font.serif\": \"Times New Roman\",\n",
    "}\n",
    "\n",
    "sns.set_style(\"ticks\", params)\n",
    "sns.set_context(\"paper\", font_scale=1.5)\n",
    "sns.set_palette(\"Set2\")"
   ]
  },
  {
   "cell_type": "code",
   "execution_count": null,
   "metadata": {},
   "outputs": [],
   "source": [
    "data_root = Path(\"<path to data>\")\n",
    "model_path = Path(\"<path to model results>\")\n",
    "step = \"<checkpoint to evaluate>\""
   ]
  },
  {
   "cell_type": "code",
   "execution_count": null,
   "metadata": {},
   "outputs": [],
   "source": [
    "def read_lines(path: Path, unescape_newline: bool = False) -> List[str]:\n",
    "    with open(path) as f:\n",
    "        lines = [l[:-1] for l in f.readlines()]\n",
    "    if unescape_newline:\n",
    "        lines = [l.replace(\"\\\\n\", \"\\n\") for l in lines]\n",
    "    return lines\n",
    "\n",
    "def load_scores(scores_file: Path):\n",
    "    lines = scores_file.read_text().splitlines()\n",
    "    scores = {}\n",
    "    for line in lines:\n",
    "        key, value = line.split(\": \")\n",
    "        scores[key] = float(value)\n",
    "    return scores\n",
    "\n",
    "def load_lp(dataset_root: Path, model_dataset_root: Path, lp: str, ckpt: str, instructions: str):\n",
    "    sources = read_lines(dataset_root / lp / \"train_eval.input.txt\", unescape_newline=True)\n",
    "    references = read_lines(dataset_root / lp / \"train_eval.output.txt\", unescape_newline=True)\n",
    "    instructions_lines = read_lines(dataset_root / lp / f\"{instructions}.txt\", unescape_newline=True)\n",
    "\n",
    "    scores = pd.read_csv(model_dataset_root / lp / ckpt / instructions / \"seg_scores.txt\")\n",
    "    bleu_scores = scores[\"BLEU\"]\n",
    "\n",
    "    translations = read_lines(model_dataset_root / lp / ckpt / instructions / \"translations.txt\", unescape_newline=True)\n",
    "\n",
    "    records = [\n",
    "        {\n",
    "            \"lp\": lp,\n",
    "            \"source\": s,\n",
    "            \"reference\": r,\n",
    "            \"translation\": t,\n",
    "            \"instruction\": i,\n",
    "            \"score\": c,\n",
    "        }\n",
    "        for s, r, t, i, c in zip(sources, references, translations, instructions_lines, bleu_scores)\n",
    "    ]\n",
    "\n",
    "    return records\n",
    "\n",
    "def load_results(data_root: Path, model_root: Path, dataset: str, ckpt: str, instructions: str):\n",
    "    dataset_root = data_root / dataset\n",
    "    model_dataset_root = model_root / dataset\n",
    "\n",
    "    results = []\n",
    "    lps_dirs = [d for d in model_dataset_root.iterdir() if d.is_dir()]\n",
    "    for lp_dir in lps_dirs:\n",
    "        lp = lp_dir.name\n",
    "        results.extend(load_lp(dataset_root, model_dataset_root, lp, ckpt, instructions))\n",
    "    df = pd.DataFrame(results)\n",
    "    return df"
   ]
  },
  {
   "cell_type": "code",
   "execution_count": null,
   "metadata": {},
   "outputs": [],
   "source": [
    "results = []\n",
    "\n",
    "domains = [\"flores\", \"medical\", \"law\", \"tico\", \"chat_wmt\"]#, \"nllb_md_chat\", \"nllb_md_health\", \"nllb_md_news\",]\n",
    "domain2label = {\n",
    "    \"flores\": \"Flores\",\n",
    "    \"medical\": \"Medical\",\n",
    "    \"law\": \"Law\",\n",
    "    \"nllb_md_chat\": \"NLLB Chat\",\n",
    "    \"nllb_md_health\": \"NLLB Health\",\n",
    "    \"nllb_md_news\": \"NLLB News\",\n",
    "    \"tico\": \"Tico\",\n",
    "    \"chat_wmt\": \"Chat\",\n",
    "}\n",
    "\n",
    "for domain in domains:\n",
    "    zero_shot = load_results(data_root, model_path, domain, step, \"zero_shot_instructions\")\n",
    "    zero_shot.rename(columns={\"instruction\": \"zero_shot_instruction\", \"translation\": \"zero_shot_translation\", \"score\": \"zero_shot_score\" }, inplace=True)\n",
    "    few_shot = load_results(data_root, model_path, domain, step, \"few_shot_instructions2\")\n",
    "    few_shot.rename(columns={\"instruction\": \"few_shot_instruction\", \"translation\": \"few_shot_translation\", \"score\": \"few_shot_score\" }, inplace=True)\n",
    "\n",
    "    df = pd.concat([zero_shot, few_shot.drop(columns=[\"source\", \"reference\", \"lp\"])], axis=1)\n",
    "    df = df[~df[\"lp\"].str.contains(\"zh\")]\n",
    "    df[\"Domain\"] = domain2label[domain]\n",
    "    upper_threshold = 30\n",
    "    lower_threshold = 3\n",
    "    df[\"is_candidate\"] = (df[\"zero_shot_score\"] > upper_threshold)\n",
    "    df[\"is_hallucination\"] = df[\"is_candidate\"] & (df[\"few_shot_score\"] < lower_threshold)\n",
    "    df[\"is_reverse_candidate\"] = (df[\"few_shot_score\"] > upper_threshold)\n",
    "    df[\"is_reverse_hallucination\"] = df[\"is_reverse_candidate\"] & (df[\"zero_shot_score\"] < lower_threshold)\n",
    "    results.append(df)\n",
    "\n",
    "results = pd.concat(results)\n",
    "results"
   ]
  },
  {
   "cell_type": "code",
   "execution_count": null,
   "metadata": {},
   "outputs": [],
   "source": [
    "candidates = results[results[\"is_candidate\"]]\n",
    "candidates[[\"Domain\", \"is_hallucination\"]].groupby(\"Domain\").mean() * 100"
   ]
  },
  {
   "cell_type": "code",
   "execution_count": null,
   "metadata": {},
   "outputs": [],
   "source": [
    "candidates = results[results[\"is_reverse_candidate\"]]\n",
    "candidates[[\"Domain\", \"is_reverse_hallucination\"]].groupby(\"Domain\").mean() * 100"
   ]
  },
  {
   "cell_type": "code",
   "execution_count": null,
   "metadata": {},
   "outputs": [],
   "source": [
    "hallucinations = results[results[\"is_hallucination\"]].copy()\n",
    "for row in hallucinations.iterrows():\n",
    "    print(\"-\" * 80)\n",
    "    print(\"Instruction:\")\n",
    "    print(row[1][\"few_shot_instruction\"])\n",
    "    print(\"Reference:\", row[1][\"reference\"])\n",
    "    print(\"Zero-shot:\", row[1][\"zero_shot_translation\"])\n",
    "    print(\"Few-shot:\", row[1][\"few_shot_translation\"])\n",
    "    print() "
   ]
  },
  {
   "cell_type": "code",
   "execution_count": null,
   "metadata": {},
   "outputs": [],
   "source": [
    "# Create a column to check if the few_shot_translation is in the few_shot_instruction\n",
    "is_copy_df = hallucinations.copy()\n",
    "is_copy_df[\"is_copy\"] = is_copy_df.apply(lambda row: row[\"few_shot_translation\"] in row[\"few_shot_instruction\"], axis=1)\n",
    "copies = is_copy_df[is_copy_df[\"is_copy\"]]\n",
    "for row in copies.iterrows():\n",
    "    print(\"-\" * 80)\n",
    "    print(\"Instruction:\")\n",
    "    print(row[1][\"few_shot_instruction\"])\n",
    "    print(\"Reference:\", row[1][\"reference\"])\n",
    "    print(\"Zero-shot:\", row[1][\"zero_shot_translation\"])\n",
    "    print(\"Few-shot:\", row[1][\"few_shot_translation\"])\n",
    "    print() "
   ]
  },
  {
   "cell_type": "code",
   "execution_count": null,
   "metadata": {},
   "outputs": [],
   "source": []
  }
 ],
 "metadata": {
  "kernelspec": {
   "display_name": "mt-eval",
   "language": "python",
   "name": "python3"
  },
  "language_info": {
   "codemirror_mode": {
    "name": "ipython",
    "version": 3
   },
   "file_extension": ".py",
   "mimetype": "text/x-python",
   "name": "python",
   "nbconvert_exporter": "python",
   "pygments_lexer": "ipython3",
   "version": "3.10.6"
  },
  "orig_nbformat": 4
 },
 "nbformat": 4,
 "nbformat_minor": 2
}
